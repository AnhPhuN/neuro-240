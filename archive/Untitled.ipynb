{
 "cells": [
  {
   "cell_type": "code",
   "execution_count": 10,
   "id": "3fc2350d-22a7-4eb8-bb81-5b613133d68b",
   "metadata": {
    "tags": []
   },
   "outputs": [
    {
     "name": "stdout",
     "output_type": "stream",
     "text": [
      "hello world\n",
      "No GPU available.\n"
     ]
    }
   ],
   "source": [
    "import torch\n",
    "import torchvision\n",
    "from torchvision import transforms, datasets\n",
    "import pickle\n",
    "import os\n",
    "import numpy as np\n",
    "from sklearn.model_selection import train_test_split\n",
    "import torch.nn as nn\n",
    "import torch.optim as optim\n",
    "from torchvision.models import resnet18\n",
    "\n",
    "print(\"hello world\")\n",
    "if torch.cuda.is_available():\n",
    "    print(torch.cuda.get_device_name(0))\n",
    "else:\n",
    "    print(\"No GPU available.\")"
   ]
  },
  {
   "cell_type": "code",
   "execution_count": 5,
   "id": "570d9010-0f1b-4db7-b9aa-341e73b82e80",
   "metadata": {
    "tags": []
   },
   "outputs": [],
   "source": [
    "with open('att_dict_simplified.p', 'rb') as f:\n",
    "    att_dict = pickle.load(f)\n",
    "    \n"
   ]
  },
  {
   "cell_type": "code",
   "execution_count": 12,
   "id": "85404bbb-1b10-462c-8644-48a635c668a7",
   "metadata": {
    "tags": []
   },
   "outputs": [],
   "source": [
    "# Define a custom dataset class to load the images and corresponding labels\n",
    "class CarDataset(torch.utils.data.Dataset):\n",
    "    def __init__(self, root_dir, transform=None):\n",
    "        self.root_dir = root_dir\n",
    "        self.transform = transform\n",
    "        self.samples = []\n",
    "        for foldername in os.listdir(root_dir):\n",
    "            if foldername.startswith('train') or foldername.startswith('test'):\n",
    "                images_dir = os.path.join(root_dir, foldername, 'images')\n",
    "                for filename in os.listdir(images_dir):\n",
    "                    if filename.endswith('.png') and filename[:-4] in att_dict:\n",
    "                        label = att_dict[filename[:-4]][2]\n",
    "                        self.samples.append((os.path.join(images_dir, filename), label))\n",
    "\n",
    "    def __len__(self):\n",
    "        return len(self.samples)\n",
    "\n",
    "    def __getitem__(self, idx):\n",
    "        image_path, label = self.samples[idx]\n",
    "        image = Image.open(image_path).convert('RGB')\n",
    "        if self.transform:\n",
    "            image = self.transform(image)\n",
    "        return image, label"
   ]
  },
  {
   "cell_type": "code",
   "execution_count": 14,
   "id": "7cc86dbb-e94e-44ec-b2f6-6b8ee975efb5",
   "metadata": {
    "tags": []
   },
   "outputs": [],
   "source": [
    "# Load the data using the custom dataset class\n",
    "data_root = 'biased_cars_1'\n",
    "car_dataset = CarDataset(data_root, transform=None)"
   ]
  }
 ],
 "metadata": {
  "kernelspec": {
   "display_name": "Python 3 (ipykernel)",
   "language": "python",
   "name": "python3"
  },
  "language_info": {
   "codemirror_mode": {
    "name": "ipython",
    "version": 3
   },
   "file_extension": ".py",
   "mimetype": "text/x-python",
   "name": "python",
   "nbconvert_exporter": "python",
   "pygments_lexer": "ipython3",
   "version": "3.8.10"
  }
 },
 "nbformat": 4,
 "nbformat_minor": 5
}
